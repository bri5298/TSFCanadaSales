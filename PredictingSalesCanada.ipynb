{
 "cells": [
  {
   "cell_type": "code",
   "execution_count": 1094,
   "id": "199805c5",
   "metadata": {},
   "outputs": [],
   "source": [
    "import pandas as pd\n",
    "import numpy as np\n",
    "import matplotlib.pyplot as plt\n",
    "import seaborn as sns\n",
    "import warnings"
   ]
  },
  {
   "cell_type": "code",
   "execution_count": 1306,
   "id": "1cf428d0",
   "metadata": {},
   "outputs": [
    {
     "data": {
      "text/html": [
       "<div>\n",
       "<style scoped>\n",
       "    .dataframe tbody tr th:only-of-type {\n",
       "        vertical-align: middle;\n",
       "    }\n",
       "\n",
       "    .dataframe tbody tr th {\n",
       "        vertical-align: top;\n",
       "    }\n",
       "\n",
       "    .dataframe thead th {\n",
       "        text-align: right;\n",
       "    }\n",
       "</style>\n",
       "<table border=\"1\" class=\"dataframe\">\n",
       "  <thead>\n",
       "    <tr style=\"text-align: right;\">\n",
       "      <th></th>\n",
       "      <th>Period</th>\n",
       "      <th>Retail_trade</th>\n",
       "      <th>E_shopping</th>\n",
       "      <th>Retail_E_commerce</th>\n",
       "    </tr>\n",
       "  </thead>\n",
       "  <tbody>\n",
       "    <tr>\n",
       "      <th>0</th>\n",
       "      <td>2016-01-01</td>\n",
       "      <td>37415147</td>\n",
       "      <td>679612</td>\n",
       "      <td>877354</td>\n",
       "    </tr>\n",
       "    <tr>\n",
       "      <th>1</th>\n",
       "      <td>2016-02-01</td>\n",
       "      <td>36815980</td>\n",
       "      <td>616598</td>\n",
       "      <td>789553</td>\n",
       "    </tr>\n",
       "    <tr>\n",
       "      <th>2</th>\n",
       "      <td>2016-03-01</td>\n",
       "      <td>42763737</td>\n",
       "      <td>681191</td>\n",
       "      <td>865677</td>\n",
       "    </tr>\n",
       "    <tr>\n",
       "      <th>3</th>\n",
       "      <td>2016-04-01</td>\n",
       "      <td>46155952</td>\n",
       "      <td>686764</td>\n",
       "      <td>916710</td>\n",
       "    </tr>\n",
       "    <tr>\n",
       "      <th>4</th>\n",
       "      <td>2016-05-01</td>\n",
       "      <td>48783412</td>\n",
       "      <td>681192</td>\n",
       "      <td>916244</td>\n",
       "    </tr>\n",
       "    <tr>\n",
       "      <th>...</th>\n",
       "      <td>...</td>\n",
       "      <td>...</td>\n",
       "      <td>...</td>\n",
       "      <td>...</td>\n",
       "    </tr>\n",
       "    <tr>\n",
       "      <th>66</th>\n",
       "      <td>2021-07-01</td>\n",
       "      <td>60103496</td>\n",
       "      <td>1842253</td>\n",
       "      <td>2834922</td>\n",
       "    </tr>\n",
       "    <tr>\n",
       "      <th>67</th>\n",
       "      <td>2021-08-01</td>\n",
       "      <td>58829377</td>\n",
       "      <td>1996704</td>\n",
       "      <td>2977037</td>\n",
       "    </tr>\n",
       "    <tr>\n",
       "      <th>68</th>\n",
       "      <td>2021-09-01</td>\n",
       "      <td>57634235</td>\n",
       "      <td>2237769</td>\n",
       "      <td>3244009</td>\n",
       "    </tr>\n",
       "    <tr>\n",
       "      <th>69</th>\n",
       "      <td>2021-10-01</td>\n",
       "      <td>58946550</td>\n",
       "      <td>2286815</td>\n",
       "      <td>3336382</td>\n",
       "    </tr>\n",
       "    <tr>\n",
       "      <th>70</th>\n",
       "      <td>2021-11-01</td>\n",
       "      <td>59991741</td>\n",
       "      <td>2819238</td>\n",
       "      <td>4313607</td>\n",
       "    </tr>\n",
       "  </tbody>\n",
       "</table>\n",
       "<p>71 rows × 4 columns</p>\n",
       "</div>"
      ],
      "text/plain": [
       "        Period  Retail_trade  E_shopping  Retail_E_commerce\n",
       "0   2016-01-01      37415147      679612             877354\n",
       "1   2016-02-01      36815980      616598             789553\n",
       "2   2016-03-01      42763737      681191             865677\n",
       "3   2016-04-01      46155952      686764             916710\n",
       "4   2016-05-01      48783412      681192             916244\n",
       "..         ...           ...         ...                ...\n",
       "66  2021-07-01      60103496     1842253            2834922\n",
       "67  2021-08-01      58829377     1996704            2977037\n",
       "68  2021-09-01      57634235     2237769            3244009\n",
       "69  2021-10-01      58946550     2286815            3336382\n",
       "70  2021-11-01      59991741     2819238            4313607\n",
       "\n",
       "[71 rows x 4 columns]"
      ]
     },
     "execution_count": 1306,
     "metadata": {},
     "output_type": "execute_result"
    }
   ],
   "source": [
    "# Import the data and get a quick glance at what it looks like\n",
    "df = pd.read_csv(\"/Users/brielle/Documents/Jupyter/Data/Canada_Retail_Sales_per_Yr.csv\")\n",
    "df"
   ]
  },
  {
   "cell_type": "code",
   "execution_count": 1307,
   "id": "317b6e0f",
   "metadata": {},
   "outputs": [
    {
     "data": {
      "text/html": [
       "<div>\n",
       "<style scoped>\n",
       "    .dataframe tbody tr th:only-of-type {\n",
       "        vertical-align: middle;\n",
       "    }\n",
       "\n",
       "    .dataframe tbody tr th {\n",
       "        vertical-align: top;\n",
       "    }\n",
       "\n",
       "    .dataframe thead th {\n",
       "        text-align: right;\n",
       "    }\n",
       "</style>\n",
       "<table border=\"1\" class=\"dataframe\">\n",
       "  <thead>\n",
       "    <tr style=\"text-align: right;\">\n",
       "      <th></th>\n",
       "      <th>Period</th>\n",
       "      <th>Sales</th>\n",
       "    </tr>\n",
       "  </thead>\n",
       "  <tbody>\n",
       "    <tr>\n",
       "      <th>0</th>\n",
       "      <td>2016-01-01</td>\n",
       "      <td>679612</td>\n",
       "    </tr>\n",
       "    <tr>\n",
       "      <th>1</th>\n",
       "      <td>2016-02-01</td>\n",
       "      <td>616598</td>\n",
       "    </tr>\n",
       "    <tr>\n",
       "      <th>2</th>\n",
       "      <td>2016-03-01</td>\n",
       "      <td>681191</td>\n",
       "    </tr>\n",
       "    <tr>\n",
       "      <th>3</th>\n",
       "      <td>2016-04-01</td>\n",
       "      <td>686764</td>\n",
       "    </tr>\n",
       "    <tr>\n",
       "      <th>4</th>\n",
       "      <td>2016-05-01</td>\n",
       "      <td>681192</td>\n",
       "    </tr>\n",
       "    <tr>\n",
       "      <th>...</th>\n",
       "      <td>...</td>\n",
       "      <td>...</td>\n",
       "    </tr>\n",
       "    <tr>\n",
       "      <th>66</th>\n",
       "      <td>2021-07-01</td>\n",
       "      <td>1842253</td>\n",
       "    </tr>\n",
       "    <tr>\n",
       "      <th>67</th>\n",
       "      <td>2021-08-01</td>\n",
       "      <td>1996704</td>\n",
       "    </tr>\n",
       "    <tr>\n",
       "      <th>68</th>\n",
       "      <td>2021-09-01</td>\n",
       "      <td>2237769</td>\n",
       "    </tr>\n",
       "    <tr>\n",
       "      <th>69</th>\n",
       "      <td>2021-10-01</td>\n",
       "      <td>2286815</td>\n",
       "    </tr>\n",
       "    <tr>\n",
       "      <th>70</th>\n",
       "      <td>2021-11-01</td>\n",
       "      <td>2819238</td>\n",
       "    </tr>\n",
       "  </tbody>\n",
       "</table>\n",
       "<p>71 rows × 2 columns</p>\n",
       "</div>"
      ],
      "text/plain": [
       "        Period   Sales\n",
       "0   2016-01-01  679612\n",
       "1   2016-02-01  616598\n",
       "2   2016-03-01  681191\n",
       "3   2016-04-01  686764\n",
       "4   2016-05-01  681192\n",
       "..         ...     ...\n",
       "66  2021-07-01 1842253\n",
       "67  2021-08-01 1996704\n",
       "68  2021-09-01 2237769\n",
       "69  2021-10-01 2286815\n",
       "70  2021-11-01 2819238\n",
       "\n",
       "[71 rows x 2 columns]"
      ]
     },
     "execution_count": 1307,
     "metadata": {},
     "output_type": "execute_result"
    }
   ],
   "source": [
    "# We just want to be looking at 1 Sales at a time so we're going to just select Period and E_shopping\n",
    "\n",
    "# If we want to look at the E_shopping column\n",
    "df_eshop = df[['Period', 'E_shopping']]\n",
    "# Rename the E_shopping column by replacing the old one with Sales\n",
    "df_eshop.rename({'Period': 'Period', 'E_shopping': 'Sales'}, axis = 1, inplace = True)\n",
    "\n",
    "# OR if we want to look at Retail_E_commerce we can uncomment the lines below\n",
    "# df_eshop = df[['Period', 'Retail_E_commerce']]\n",
    "# # Rename the Retail_E_commerce column by replacing the old one with Sales\n",
    "# df_eshop.rename({'Period': 'Period', 'Retail_E_commerce': 'Sales'}, axis = 1, inplace = True)\n",
    "\n",
    "df_eshop"
   ]
  },
  {
   "cell_type": "code",
   "execution_count": 1308,
   "id": "618d9617",
   "metadata": {},
   "outputs": [
    {
     "data": {
      "image/png": "[encoded data removed]",
      "text/plain": [
       "<Figure size 432x288 with 1 Axes>"
      ]
     },
     "metadata": {},
     "output_type": "display_data"
    }
   ],
   "source": [
    "# Plot the data really quickly\n",
    "df_eshop.plot()\n",
    "plt.show()"
   ]
  },
  {
   "cell_type": "code",
   "execution_count": 1309,
   "id": "abc436f5",
   "metadata": {},
   "outputs": [],
   "source": [
    "# Date column (aka ds) must be in date time format\n",
    "from pandas import to_datetime\n",
    "# Set the display format to not have decimals\n",
    "pd.set_option('display.float_format', lambda x: '%.0f' % x)\n",
    "\n",
    "# Set the Period column to be a data frame index and to be in the date time format\n",
    "df_eshop.index = pd.to_datetime(df_eshop['Period'], format = '%Y-%m-%d')\n",
    "\n",
    "# We do not need the period column anymore as we're using the index now\n",
    "del df_eshop['Period']"
   ]
  },
  {
   "cell_type": "code",
   "execution_count": 1310,
   "id": "a0f0396f",
   "metadata": {},
   "outputs": [
    {
     "data": {
      "image/png": "[encoded data removed]",
      "text/plain": [
       "<Figure size 432x288 with 1 Axes>"
      ]
     },
     "metadata": {},
     "output_type": "display_data"
    }
   ],
   "source": [
    "from matplotlib.ticker import FormatStrFormatter, StrMethodFormatter\n",
    "\n",
    "# Plot the Period and Sales data\n",
    "fig, ax = plt.subplots()\n",
    "ax.plot(df_eshop.index, df_eshop['Sales'], color = 'blue')\n",
    "plt.ylabel('Sales')\n",
    "plt.xlabel('Period')\n",
    "plt.xticks(rotation = 0) # Can rotate the dates on x axis if we want\n",
    "ax.plot(df_eshop.index, df_eshop['Sales'])\n",
    "ax.yaxis.set_major_formatter(StrMethodFormatter('{x:,.0f}')) # Edit the format so that it is thousands with ','\n",
    "plt.show()"
   ]
  },
  {
   "cell_type": "code",
   "execution_count": 1311,
   "id": "721fbea4",
   "metadata": {},
   "outputs": [
    {
     "data": {
      "image/png": "[encoded data removed]",
      "text/plain": [
       "<Figure size 432x288 with 1 Axes>"
      ]
     },
     "metadata": {},
     "output_type": "display_data"
    }
   ],
   "source": [
    "# Split out the training and the test data. Training data will be 2016-2020 and test is 2021\n",
    "\n",
    "# Select the dates before 2021 as the training data\n",
    "train = df_eshop[df_eshop.index < pd.to_datetime(\"2020-12-02\", format = '%Y-%m-%d')]\n",
    "\n",
    "# Select the dates after 2021 as the test data\n",
    "test = df_eshop[df_eshop.index > pd.to_datetime(\"2020-12-02\", format = '%Y-%m-%d')]\n",
    "\n",
    "# Plot the train and test data in different colours to differentiate them\n",
    "plt.plot(train, color = 'black', label = 'train data')\n",
    "plt.plot(test, color = 'red', label = 'test data')\n",
    "# Add the labels\n",
    "plt.ylabel('Sales')\n",
    "plt.xlabel('Date')\n",
    "plt.xticks(rotation = 0) # Can rotate the dates on x axis if we want \n",
    "plt.title('Train/test split for sales with predictions')\n",
    "plt.legend() # Add the legend so we know what colours mean what\n",
    "plt.plot()\n",
    "plt.show()"
   ]
  },
  {
   "cell_type": "code",
   "execution_count": 1312,
   "id": "9076be29",
   "metadata": {},
   "outputs": [],
   "source": [
    "# If we want, we can view the test and train data with corresponding dates\n",
    "# print(train)\n",
    "# print(test)"
   ]
  },
  {
   "cell_type": "raw",
   "id": "af804248",
   "metadata": {},
   "source": [
    "For this time series forecasting model we will use SARIMAX method (Seasonal Auto-Regressive Integrated Moving\n",
    "Average with eXogenous factors). So it takes into consideration seasonal changes and other factors that could\n",
    "affect the data.\n",
    "\n",
    "For example, looking at our plots above what do we see? It looks like at the end of each year there is a spike in sales. What happens at the end of each year? CHRISTMAS! At the end of the year, Christmas happens which would definitely affect sales numbers. \n",
    "\n",
    "We want to make sure our model takes things like that into consideration when it forecasts so we need a model that considers Seasonality."
   ]
  },
  {
   "cell_type": "code",
   "execution_count": 1313,
   "id": "d50f48e1",
   "metadata": {},
   "outputs": [],
   "source": [
    "from statsmodels.tsa.statespace.sarimax import SARIMAX as sarimax\n",
    "\n",
    "# Define the input\n",
    "y = train['Sales']"
   ]
  },
  {
   "cell_type": "code",
   "execution_count": 1314,
   "id": "147ce864",
   "metadata": {},
   "outputs": [],
   "source": [
    "# Determine the parameters to put in the SARIMAX order = \n",
    "import itertools\n",
    "\n",
    "# Define the p,d,q parameters to take any value between 0 and 2\n",
    "p = d = q = range(0,2)\n",
    "\n",
    "# Generate all different combos of p,d,q triplets\n",
    "# pdq = list(itertools.product(p,d,q)) # Use this if we want to run through all iterations of pdq. \n",
    "pdq = (1,0,1) # for now we just want pdq = (1,0,1)\n",
    "\n",
    "# Generate all different combos of seasonal p, d, q triplets\n",
    "# Use 12 because we have separated by YYYY-MM and there's 12 months per year\n",
    "seasonal_pdq = [(x[0], x[1], x[2], 12) for x in list(itertools.product(p, d, q))]"
   ]
  },
  {
   "cell_type": "code",
   "execution_count": 1315,
   "id": "9e08e0f5",
   "metadata": {},
   "outputs": [],
   "source": [
    "# Run through the model with the different parameters to see which is best\n",
    "from sklearn.metrics import mean_squared_error\n",
    "from math import sqrt\n",
    "from IPython.display import clear_output\n",
    "\n",
    "warnings.filterwarnings('ignore') # ignore warning messages\n",
    "\n",
    "params_rmse = {}\n",
    "\n",
    "# if we wanted to run through all pdf from above we would do a for loop for all pdq params too\n",
    "# for param in pdq: \n",
    "\n",
    "for param_seasonal in seasonal_pdq:\n",
    "    try:\n",
    "        \n",
    "        # we would replace order = pdq with order = param if we were running through all iterations of pdq\n",
    "        \n",
    "        # Define the model and its paramters. order and seasonal_order will change as we run through the loop\n",
    "        ARMAmodel = sarimax(y, order = pdq, seasonal_order = param_seasonal,\n",
    "                                         enforce_stationarity = True,\n",
    "                                         enforce_invertibility = True)\n",
    "        # Fit the model\n",
    "        model2 = ARMAmodel.fit()\n",
    "\n",
    "        # we would replace pdq with param if we were running through all iterations of pdq\n",
    "        print('ARIMA{}x{}12 - AIC:{}'.format(pdq, param_seasonal, results.aic))\n",
    "        arima_params = 'ARIMA{}x{}12'.format(pdq, param_seasonal, results.aic)\n",
    "\n",
    "        # Use the model to predict the test data\n",
    "        y_pred = model2.get_forecast(len(test.index))\n",
    "        \n",
    "        # alpha = 0.05 means 95% prediction interval suggests high likely (95%) that the real observation \n",
    "        # is in the range\n",
    "        y_pred_df = y_pred.conf_int(alpha = 0.05)\n",
    "        \n",
    "        # Generate the predictions into its own df\n",
    "        y_pred_df['Predictions'] = model2.predict(start = y_pred_df.index[0], end = y_pred_df.index[-1])\n",
    "        y_pred_df.index = test.index\n",
    "        y_pred_out = y_pred_df['Predictions']\n",
    "\n",
    "        # Calculate the Root Mean Squared Errors for all of the parameters\n",
    "        model_rmse = sqrt(mean_squared_error(test['Sales'].values, y_pred_df['Predictions']))\n",
    "\n",
    "        print('*************************************************************************')\n",
    "        print('RMSE is: ', f\"{model_rmse:,.0f}\")\n",
    "\n",
    "        # Add all parameters and RMSE to a dictionary so we can find which one is smallest and use that in our model\n",
    "        case = {str(arima_params) : model_rmse}\n",
    "        params_rmse.update(case)\n",
    "\n",
    "    except:\n",
    "        continue\n",
    "\n",
    "# Clear the output\n",
    "clear_output()"
   ]
  },
  {
   "cell_type": "code",
   "execution_count": 1316,
   "id": "071ae592",
   "metadata": {},
   "outputs": [
    {
     "name": "stdout",
     "output_type": "stream",
     "text": [
      "Min RMSE is :  415,115\n",
      "For the parameters: \n",
      "ARIMA(1, 0, 1)x(0, 1, 0, 12)12\n"
     ]
    }
   ],
   "source": [
    "# Find the minimum RMSE and its parameters so that we can use it in the final model \n",
    "\n",
    "# the seasonal_order = (0, 0, 0, 12) does not provide enough detail so we want to delete it from consideration.\n",
    "# Even if it has the lowest RMSE, we do not want it showing up because we will not use it in the model anyway\n",
    "del params_rmse['ARIMA(1, 0, 1)x(0, 0, 0, 12)12']\n",
    "# print(params_rmse)\n",
    "\n",
    "# Create a list of values and parameters from our params_rmse dictionary\n",
    "list_of_params = list(params_rmse.keys())\n",
    "list_of_values = list(params_rmse.values())\n",
    "\n",
    "# Find the minimum RMSE from the values in our dictionary\n",
    "min_rmse = min(list_of_values)\n",
    "# print(min_rmse)\n",
    "\n",
    "# Find the index of our minimum RMSE to see what the key is aka the ARIMA Parameters corresponding to the min RMSE\n",
    "min_index = list_of_values.index(min_rmse)\n",
    "# print(min_index)\n",
    "\n",
    "print('Min RMSE is : ', f\"{min_rmse:,.0f}\") # format the RMSE to remove decimals and sepate thousands by , \n",
    "\n",
    "# Find the key aka the ARIMA Parameters corresponding to the min RMSE\n",
    "param_for_min = list_of_params[min_index]\n",
    "print('For the parameters: ')\n",
    "print(param_for_min)"
   ]
  },
  {
   "cell_type": "code",
   "execution_count": 1317,
   "id": "e43d34c6",
   "metadata": {},
   "outputs": [],
   "source": [
    "# Define the model\n",
    "# pass in the order parameters with the lowest RMSE found above. We can change these to see different results\n",
    "\n",
    "# Define the model\n",
    "# ARMAmodel = sarimax(y, order = (1,0,1), seasonal_order = (0,1,1,12)) # Could chose this or others if we want\n",
    "ARMAmodel = sarimax(y, order = (1,0,1), seasonal_order = (0,1,0,12), enforce_stationarity = True,\n",
    "                                         enforce_invertibility = True)\n",
    "\n",
    "# Fit the model with the chosen parameters (ideally the ones that give us the min RMSE found above)\n",
    "model = ARMAmodel.fit() \n",
    "\n",
    "# Clear the output\n",
    "clear_output()"
   ]
  },
  {
   "cell_type": "code",
   "execution_count": 1318,
   "id": "b04425ed",
   "metadata": {},
   "outputs": [
    {
     "data": {
      "image/png": "[encoded data removed]",
      "text/plain": [
       "<Figure size 432x288 with 1 Axes>"
      ]
     },
     "metadata": {},
     "output_type": "display_data"
    }
   ],
   "source": [
    "# Use the model to predict the test data\n",
    "y_pred = model.get_forecast(len(test.index))\n",
    "\n",
    "# alpha = 0.05 means 95% prediction interval suggests high likely (95%) that the real observation is in the range\n",
    "y_pred_df = y_pred.conf_int(alpha = 0.05)\n",
    "\n",
    "# Generate the predictions into its own df\n",
    "y_pred_df['Predictions'] = model.predict(start = y_pred_df.index[0], end = y_pred_df.index[-1])\n",
    "y_pred_df.index = test.index\n",
    "y_pred_out = y_pred_df['Predictions']\n",
    "\n",
    "# Plot the Train data, test data and the models predictions in different colours to differenciate them\n",
    "plt.plot(y_pred_out, color = 'blue', label = 'Predictions')\n",
    "plt.plot(train, color = 'black', label = 'train data')\n",
    "plt.plot(test, color = 'green', label = 'test data')\n",
    "# Add the labels\n",
    "plt.ylabel('Sales')\n",
    "plt.xlabel('Date')\n",
    "plt.xticks(rotation = 0) # Can rotate the dates on x axis if we want \n",
    "plt.title('Train/test split for sales with predictions')\n",
    "plt.legend() # Add the legend so we know what colours mean what\n",
    "plt.plot()\n",
    "plt.show()"
   ]
  },
  {
   "cell_type": "code",
   "execution_count": 1319,
   "id": "a4670905",
   "metadata": {},
   "outputs": [
    {
     "name": "stdout",
     "output_type": "stream",
     "text": [
      "['2160105', '2047112', '2413074', '2770734', '2950304', '2732485', '2491075', '2596447', '2689078', '2504443', '3094060']\n",
      "\n",
      "[2191179. 2081430. 2563464. 2340922. 2258594. 2415733. 1842253. 1996704.\n",
      " 2237769. 2286815. 2819238.]\n"
     ]
    }
   ],
   "source": [
    "# View the Predictions vs the actual sales values and we can compare the 2\n",
    "list_of_preds = list(y_pred_df['Predictions'].values)\n",
    "\n",
    "print(['{:.0f}'.format(item) for item in list_of_preds])\n",
    "print('')\n",
    "print(test['Sales'].values)"
   ]
  },
  {
   "cell_type": "code",
   "execution_count": 1320,
   "id": "e4125fe8",
   "metadata": {},
   "outputs": [
    {
     "name": "stdout",
     "output_type": "stream",
     "text": [
      "RMSE is:  415,115\n"
     ]
    }
   ],
   "source": [
    "# Evaluate the performance of the model using Root Mean Squared Error (RMSE)\n",
    "\n",
    "# We want to see clearly what the RMSE is for this particular model\n",
    "model_rmse = sqrt(mean_squared_error(test['Sales'].values, y_pred_df['Predictions']))\n",
    "\n",
    "print('RMSE is: ', f\"{model_rmse:,.0f}\") # format so that we dont see decimals and separate thousands by ,\n"
   ]
  },
  {
   "cell_type": "code",
   "execution_count": 1321,
   "id": "67c2ab21",
   "metadata": {},
   "outputs": [
    {
     "name": "stdout",
     "output_type": "stream",
     "text": [
      "DatetimeIndex(['2021-12-01', '2022-01-01', '2022-02-01', '2022-03-01',\n",
      "               '2022-04-01', '2022-05-01', '2022-06-01', '2022-07-01',\n",
      "               '2022-08-01', '2022-09-01', '2022-10-01', '2022-11-01',\n",
      "               '2022-12-01', '2023-01-01', '2023-02-01', '2023-03-01',\n",
      "               '2023-04-01', '2023-05-01', '2023-06-01', '2023-07-01',\n",
      "               '2023-08-01', '2023-09-01', '2023-10-01', '2023-11-01',\n",
      "               '2023-12-01'],\n",
      "              dtype='datetime64[ns]', freq='MS')\n",
      "            0\n",
      "0  2021-12-01\n",
      "1  2022-01-01\n",
      "2  2022-02-01\n",
      "3  2022-03-01\n",
      "4  2022-04-01\n",
      "5  2022-05-01\n",
      "6  2022-06-01\n",
      "7  2022-07-01\n",
      "8  2022-08-01\n",
      "9  2022-09-01\n",
      "10 2022-10-01\n",
      "11 2022-11-01\n",
      "12 2022-12-01\n",
      "13 2023-01-01\n",
      "14 2023-02-01\n",
      "15 2023-03-01\n",
      "16 2023-04-01\n",
      "17 2023-05-01\n",
      "18 2023-06-01\n",
      "19 2023-07-01\n",
      "20 2023-08-01\n",
      "21 2023-09-01\n",
      "22 2023-10-01\n",
      "23 2023-11-01\n",
      "24 2023-12-01\n"
     ]
    }
   ],
   "source": [
    "# Create a list of the future dates so that we can predict them\n",
    "# future starts with 2021-12 because that value wasnt in the original data and we still want it added\n",
    "from dateutil.relativedelta import relativedelta\n",
    "\n",
    "# The max date in the data \n",
    "max_date = max(df_eshop.index)\n",
    "# The start date needs to be the month after the last date we have in the data\n",
    "start_date = max_date + relativedelta(months = 1)\n",
    "# The end data is whatever we chose. We can look at 2 years from now, 3 years 10 years whatever\n",
    "end_date = '2023-12'\n",
    "\n",
    "# Create a dataframe for the future so that the model uses that to make its predictions\n",
    "future = pd.date_range(start_date, end_date, freq = 'MS')\n",
    "print(future)\n",
    "future = pd.DataFrame(future)\n",
    "print(future)"
   ]
  },
  {
   "cell_type": "code",
   "execution_count": 1322,
   "id": "25037e1c",
   "metadata": {},
   "outputs": [
    {
     "data": {
      "text/plain": [
       "DatetimeIndex(['2021-12-01', '2022-01-01', '2022-02-01', '2022-03-01',\n",
       "               '2022-04-01', '2022-05-01', '2022-06-01', '2022-07-01',\n",
       "               '2022-08-01', '2022-09-01', '2022-10-01', '2022-11-01',\n",
       "               '2022-12-01', '2023-01-01', '2023-02-01', '2023-03-01',\n",
       "               '2023-04-01', '2023-05-01', '2023-06-01', '2023-07-01',\n",
       "               '2023-08-01', '2023-09-01', '2023-10-01', '2023-11-01',\n",
       "               '2023-12-01'],\n",
       "              dtype='datetime64[ns]', name='ds', freq=None)"
      ]
     },
     "execution_count": 1322,
     "metadata": {},
     "output_type": "execute_result"
    }
   ],
   "source": [
    "# Make sure the future column is in Datetime format and make it the index which is what the time series forecase uses\n",
    "future.columns = ['ds']\n",
    "future['ds'] = to_datetime(future['ds'])\n",
    "future.index = future['ds']\n",
    "future.index"
   ]
  },
  {
   "cell_type": "code",
   "execution_count": 1323,
   "id": "395c55a2",
   "metadata": {},
   "outputs": [
    {
     "data": {
      "text/plain": [
       "ds\n",
       "2021-12-01   2160105\n",
       "2022-01-01   2047112\n",
       "2022-02-01   2413074\n",
       "2022-03-01   2770734\n",
       "2022-04-01   2950304\n",
       "2022-05-01   2732485\n",
       "2022-06-01   2491075\n",
       "2022-07-01   2596447\n",
       "2022-08-01   2689078\n",
       "2022-09-01   2504443\n",
       "2022-10-01   3094060\n",
       "2022-11-01   3352583\n",
       "2022-12-01   2495285\n",
       "2023-01-01   2356365\n",
       "2023-02-01   2698406\n",
       "2023-03-01   3033994\n",
       "2023-04-01   3193200\n",
       "2023-05-01   2956592\n",
       "2023-06-01   2697846\n",
       "2023-07-01   2787224\n",
       "2023-08-01   2865098\n",
       "2023-09-01   2666847\n",
       "2023-10-01   3243901\n",
       "2023-11-01   3490833\n",
       "2023-12-01   2622842\n",
       "Name: Predictions, dtype: float64"
      ]
     },
     "execution_count": 1323,
     "metadata": {},
     "output_type": "execute_result"
    }
   ],
   "source": [
    "# Use the model to predict the forecast\n",
    "forecast = model.get_forecast(len(future.index))\n",
    "\n",
    "# alpha = 0.05 means 95% prediction interval suggests high likely (95%) that the real observation is in the range\n",
    "forecast_df = forecast.conf_int(alpha = 0.05)\n",
    "\n",
    "# Generate the predictions into its own df\n",
    "forecast_df['Predictions'] = model.predict(start = forecast_df.index[0], end = forecast_df.index[-1])\n",
    "forecast_df.index = future.index\n",
    "forecast_out = forecast_df['Predictions']\n",
    "forecast_out"
   ]
  },
  {
   "cell_type": "code",
   "execution_count": 1324,
   "id": "9f8beb82",
   "metadata": {},
   "outputs": [
    {
     "data": {
      "image/png": "[encoded data removed]",
      "text/plain": [
       "<Figure size 576x360 with 1 Axes>"
      ]
     },
     "metadata": {},
     "output_type": "display_data"
    }
   ],
   "source": [
    "# Plot the Forecast with the previous data we had so we can see how it is trending \n",
    "\n",
    "# Set the dimensions of the plot\n",
    "f = plt.figure()\n",
    "f.set_figwidth(8)\n",
    "f.set_figheight(5)\n",
    "\n",
    "# Add the data to the plot. We want the test data, train data and forecast. And them to be different colours\n",
    "plt.plot(forecast_out, color = 'blue', label = 'Forecast')\n",
    "plt.plot(train, color = 'black', label = 'train data')\n",
    "plt.plot(test, color = 'green', label = 'test data')\n",
    "\n",
    "# Add the labels\n",
    "plt.ylabel('Sales')\n",
    "plt.xlabel('Date')\n",
    "plt.xticks(rotation = 0) # Can rotate the dates on x axis if we want \n",
    "plt.title('Train/test split for sales with predictions')\n",
    "plt.legend() # Add the legend so we know what colours mean what\n",
    "plt.plot()\n",
    "plt.show()"
   ]
  },
  {
   "cell_type": "code",
   "execution_count": null,
   "id": "b471bad4",
   "metadata": {},
   "outputs": [],
   "source": []
  }
 ],
 "metadata": {
  "kernelspec": {
   "display_name": "Python 3 (ipykernel)",
   "language": "python",
   "name": "python3"
  },
  "language_info": {
   "codemirror_mode": {
    "name": "ipython",
    "version": 3
   },
   "file_extension": ".py",
   "mimetype": "text/x-python",
   "name": "python",
   "nbconvert_exporter": "python",
   "pygments_lexer": "ipython3",
   "version": "3.9.7"
  }
 },
 "nbformat": 4,
 "nbformat_minor": 5
}
